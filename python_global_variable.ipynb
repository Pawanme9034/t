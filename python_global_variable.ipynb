{
  "nbformat": 4,
  "nbformat_minor": 0,
  "metadata": {
    "colab": {
      "provenance": [],
      "authorship_tag": "ABX9TyM+2woA9XggTqW1MjyaYzr8",
      "include_colab_link": true
    },
    "kernelspec": {
      "name": "python3",
      "display_name": "Python 3"
    },
    "language_info": {
      "name": "python"
    }
  },
  "cells": [
    {
      "cell_type": "markdown",
      "metadata": {
        "id": "view-in-github",
        "colab_type": "text"
      },
      "source": [
        "<a href=\"https://colab.research.google.com/github/Pawanme9034/t/blob/main/python_global_variable.ipynb\" target=\"_parent\"><img src=\"https://colab.research.google.com/assets/colab-badge.svg\" alt=\"Open In Colab\"/></a>"
      ]
    },
    {
      "cell_type": "code",
      "execution_count": 12,
      "metadata": {
        "id": "uWhqnfRjB7-s"
      },
      "outputs": [],
      "source": [
        "x = 'pawan' \n",
        "def myfun():\n",
        "  print('my name is '+ x)\n"
      ]
    },
    {
      "cell_type": "code",
      "source": [
        "myfun()"
      ],
      "metadata": {
        "colab": {
          "base_uri": "https://localhost:8080/"
        },
        "id": "AIioLyu1Cg2s",
        "outputId": "f1decb1c-489b-4daa-80f6-035cce5d7a0b"
      },
      "execution_count": 13,
      "outputs": [
        {
          "output_type": "stream",
          "name": "stdout",
          "text": [
            "my name is pawan\n"
          ]
        }
      ]
    },
    {
      "cell_type": "code",
      "source": [
        "q= 'ribu'\n",
        "\n",
        "def myfun2():\n",
        "  q = 'pawan'\n",
        "  print('my name is '+ q)\n",
        "\n",
        "myfun()\n",
        "\n",
        "print('my name is '+ q)"
      ],
      "metadata": {
        "colab": {
          "base_uri": "https://localhost:8080/"
        },
        "id": "rREQKWafEWOE",
        "outputId": "a72da8a8-f2ff-47b4-d729-0186da29add9"
      },
      "execution_count": 3,
      "outputs": [
        {
          "output_type": "stream",
          "name": "stdout",
          "text": [
            "my name is pawan\n",
            "my name is ribu\n"
          ]
        }
      ]
    },
    {
      "cell_type": "code",
      "source": [
        "# create global function inside the function\n",
        "\n",
        "def myfun3():\n",
        "  global w\n",
        "  w = \"i try to crete global function inside the function\"\n",
        "\n",
        "myfun3()\n",
        "\n",
        "print('hi i am pawan and '+ w)"
      ],
      "metadata": {
        "colab": {
          "base_uri": "https://localhost:8080/"
        },
        "id": "PSXdBGVCE2j7",
        "outputId": "6f0aab65-3507-431b-adad-b6a9387dc699"
      },
      "execution_count": 8,
      "outputs": [
        {
          "output_type": "stream",
          "name": "stdout",
          "text": [
            "hi i am pawan and i try to crete global function inside the function\n"
          ]
        }
      ]
    },
    {
      "cell_type": "code",
      "source": [
        "# to changr the valye of global variable inside the function you can gloval keyword\n",
        "\n",
        "e = 'awnish'\n",
        "\n",
        "def myfun4():\n",
        "  global e\n",
        "  e ='amit'\n",
        "  print('ok lest check ' + e)\n",
        "myfun4()"
      ],
      "metadata": {
        "colab": {
          "base_uri": "https://localhost:8080/"
        },
        "id": "Rh6MWcftIgpa",
        "outputId": "3c751907-877c-4453-c955-90cb199d0013"
      },
      "execution_count": 19,
      "outputs": [
        {
          "output_type": "stream",
          "name": "stdout",
          "text": [
            "ok lest check amit\n"
          ]
        }
      ]
    },
    {
      "cell_type": "code",
      "source": [
        "print('i am the '+ e)"
      ],
      "metadata": {
        "colab": {
          "base_uri": "https://localhost:8080/"
        },
        "id": "5n49JeFUJcL-",
        "outputId": "dd7cb853-c5a5-40d1-d5b4-6a269f6a2751"
      },
      "execution_count": 18,
      "outputs": [
        {
          "output_type": "stream",
          "name": "stdout",
          "text": [
            "i am the amit\n"
          ]
        }
      ]
    },
    {
      "cell_type": "code",
      "source": [],
      "metadata": {
        "id": "W-B9ihmqJoPE"
      },
      "execution_count": null,
      "outputs": []
    }
  ]
}